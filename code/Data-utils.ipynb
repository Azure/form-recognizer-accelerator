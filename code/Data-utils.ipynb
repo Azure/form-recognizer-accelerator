{
 "cells": [
  {
   "cell_type": "markdown",
   "id": "dea0c864",
   "metadata": {},
   "source": [
    "# This note contains file processing utility functions"
   ]
  },
  {
   "cell_type": "code",
   "execution_count": null,
   "id": "b81510a8",
   "metadata": {},
   "outputs": [],
   "source": [
    "from pikepdf import Pdf\n",
    "# import cv2\n",
    "import os\n",
    "import img2pdf\n"
   ]
  },
  {
   "cell_type": "code",
   "execution_count": null,
   "id": "48aa9832",
   "metadata": {},
   "outputs": [],
   "source": [
    "import PIL\n",
    "PIL.Image.MAX_IMAGE_PIXELS = None"
   ]
  },
  {
   "cell_type": "markdown",
   "id": "345dc68d",
   "metadata": {},
   "source": [
    "### This function converts pdf, jpg, tif and png files in \"src\" to pdf files and places them in \"pdfdst\" directory"
   ]
  },
  {
   "cell_type": "code",
   "execution_count": null,
   "id": "d8ecb76a",
   "metadata": {},
   "outputs": [],
   "source": [
    "def convert2pdf(src, pdfdst):\n",
    "    \n",
    "    a4inpt = (img2pdf.mm_to_pt(210),img2pdf.mm_to_pt(297))\n",
    "    layout_fun = img2pdf.get_layout_fun(a4inpt)\n",
    "\n",
    "    #convert images to pdf\n",
    "    for r, _, f in os.walk(src):\n",
    "        for fname in f:\n",
    "            flname = fname.lower()\n",
    "            if flname.endswith(\".pdf\"):\n",
    "                copyfile(os.path.join(r, fname), os.path.join(pdfdst, flname))\n",
    "                print(\"copying file: %s\" % fname)\n",
    "            elif flname.endswith(\".tif\"):\n",
    "                src = os.path.join(r, fname)\n",
    "                dst = os.path.join(pdfdst, flname.replace(\".tif\",\".pdf\"))\n",
    "                print(\"converting file: %s\" % src)\n",
    "                with open(dst,\"wb\") as f:\n",
    "                    f.write(img2pdf.convert(src, layout_fun=layout_fun))\n",
    "                    #f.write(img2pdf.convert(src))\n",
    "            elif flname.endswith(\".tiff\"):\n",
    "                src = os.path.join(r, fname)\n",
    "                dst = os.path.join(pdfdst, flname.replace(\".tiff\",\".pdf\"))\n",
    "                print(\"converting file: %s\" % src)\n",
    "                with open(dst,\"wb\") as f:\n",
    "                    f.write(img2pdf.convert(src), layout_fun=layout_fun)\n",
    "                    #f.write(img2pdf.convert(src))\n",
    "            elif flname.endswith(\".jpg\"):\n",
    "                src = os.path.join(r, fname)\n",
    "                dst = os.path.join(pdfdst, flname.replace(\".jpg\",\".pdf\"))\n",
    "                print(\"converting file: %s\" % src)\n",
    "                with open(dst,\"wb\") as f:\n",
    "                    f.write(img2pdf.convert(src), layout_fun=layout_fun)\n",
    "                    #f.write(img2pdf.convert(src))\n",
    "            elif flname.endswith(\".png\"):\n",
    "                src = os.path.join(r, fname)\n",
    "                dst = os.path.join(pdfdst, flname.replace(\".png\",\".pdf\"))\n",
    "                print(\"converting file: %s\" % src)\n",
    "                with open(dst,\"wb\") as f:\n",
    "                    f.write(img2pdf.convert(src), layout_fun=layout_fun)\n",
    "                    #f.write(img2pdf.convert(src))\n",
    "            else:\n",
    "                continue"
   ]
  },
  {
   "cell_type": "markdown",
   "id": "fb94d80c",
   "metadata": {},
   "source": [
    "### This function converts multipage PDF file to single page PDF files"
   ]
  },
  {
   "cell_type": "code",
   "execution_count": null,
   "id": "77686dd3",
   "metadata": {},
   "outputs": [],
   "source": [
    "def pdf_split(src,dst):\n",
    "\n",
    "    fls = os.listdir(src)\n",
    "\n",
    "    for fl in fls:\n",
    "        pdf = Pdf.open(os.path.join(src,fl))\n",
    "        for n, page in enumerate(pdf.pages):\n",
    "            dst_fl = Pdf.new()\n",
    "            dst_fl.pages.append(page)\n",
    "            \n",
    "            dst_fl_name = '%02d-'%n+fl\n",
    "            dst_fl.save(os.path.join(dst,dst_fl_name))\n"
   ]
  },
  {
   "cell_type": "markdown",
   "id": "29f8ae93",
   "metadata": {},
   "source": [
    "#### This function splits a list into \"n\" parts and create a list of lists"
   ]
  },
  {
   "cell_type": "code",
   "execution_count": null,
   "id": "8af06032",
   "metadata": {},
   "outputs": [],
   "source": [
    "def chunkify(lst,n):\n",
    "     return [lst[i::n] for i in range(n)]"
   ]
  },
  {
   "cell_type": "code",
   "execution_count": null,
   "id": "00db6a6b",
   "metadata": {},
   "outputs": [],
   "source": []
  },
  {
   "cell_type": "code",
   "execution_count": null,
   "id": "08528281",
   "metadata": {},
   "outputs": [],
   "source": []
  }
 ],
 "metadata": {
  "kernelspec": {
   "display_name": "Python 3.6 - AzureML",
   "language": "python",
   "name": "python3-azureml"
  },
  "language_info": {
   "codemirror_mode": {
    "name": "ipython",
    "version": 3
   },
   "file_extension": ".py",
   "mimetype": "text/x-python",
   "name": "python",
   "nbconvert_exporter": "python",
   "pygments_lexer": "ipython3",
   "version": "3.6.9"
  }
 },
 "nbformat": 4,
 "nbformat_minor": 5
}
